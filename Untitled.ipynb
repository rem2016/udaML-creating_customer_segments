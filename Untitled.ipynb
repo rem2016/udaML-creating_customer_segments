{
 "cells": [
  {
   "cell_type": "code",
   "execution_count": 7,
   "metadata": {
    "collapsed": true
   },
   "outputs": [],
   "source": [
    "import pandas as pd\n",
    "import numpy as np\n",
    "import seaborn as sns\n",
    "import matplotlib.pyplot as plt\n",
    "from IPython import display\n",
    "\n",
    "%matplotlib inline\n"
   ]
  },
  {
   "cell_type": "code",
   "execution_count": 2,
   "metadata": {
    "collapsed": true
   },
   "outputs": [],
   "source": [
    "np.random.normal?"
   ]
  },
  {
   "cell_type": "code",
   "execution_count": 31,
   "metadata": {
    "collapsed": false
   },
   "outputs": [
    {
     "data": {
      "image/png": "[encoded data removed]",
      "text/plain": [
       "<matplotlib.figure.Figure at 0xe7d6b00>"
      ]
     },
     "metadata": {},
     "output_type": "display_data"
    }
   ],
   "source": [
    "x = np.random.normal(10, 1, (2, 1000))\n",
    "x[:, :500] -= 20\n",
    "x[:, :200] += 50\n",
    "x[1, 500:700] -= 500 \n",
    "\n",
    "plt.scatter(x[0], x[1])\n",
    "x = x.T"
   ]
  },
  {
   "cell_type": "code",
   "execution_count": 32,
   "metadata": {
    "collapsed": false
   },
   "outputs": [
    {
     "name": "stdout",
     "output_type": "stream",
     "text": [
      "When n_components = 2, average score = 0.951948382947\n",
      "When n_components = 3, average score = 0.823326762613\n",
      "When n_components = 4, average score = 0.953969694124\n",
      "When n_components = 5, average score = 0.77765801335\n",
      "When n_components = 6, average score = 0.663510879946\n",
      "When n_components = 7, average score = 0.532546373072\n",
      "When n_components = 8, average score = 0.43505512481\n",
      "When n_components = 9, average score = 0.379755242145\n",
      "When n_components = 10, average score = 0.399383426289\n",
      "When n_components = 11, average score = 0.329754631111\n",
      "When n_components = 12, average score = 0.318585962285\n",
      "When n_components = 13, average score = 0.311354208237\n"
     ]
    }
   ],
   "source": [
    "from sklearn.mixture import GaussianMixture\n",
    "from sklearn.metrics import silhouette_score\n",
    "\n",
    "for i in range(12):\n",
    "    scores = []\n",
    "    for _ in range(10):\n",
    "        # TODO：在降维后的数据上使用你选择的聚类算法\n",
    "        clusterer = GaussianMixture(n_components=i+2)\n",
    "        clusterer.fit(x)\n",
    "\n",
    "        # TODO：预测每一个点的簇\n",
    "        preds = clusterer.predict(x)\n",
    "\n",
    "        # TODO：找到聚类中心\n",
    "        centers = clusterer.means_\n",
    "\n",
    "        # TODO：计算选择的类别的平均轮廓系数（mean silhouette coefficient）\n",
    "        score = silhouette_score(x, preds)\n",
    "        scores.append(score)\n",
    "    print(\"When n_components = {}, average score = {}\".format(i+2, sum(scores)/len(scores)))"
   ]
  },
  {
   "cell_type": "code",
   "execution_count": null,
   "metadata": {
    "collapsed": true
   },
   "outputs": [],
   "source": []
  }
 ],
 "metadata": {
  "anaconda-cloud": {},
  "kernelspec": {
   "display_name": "Python [py2]",
   "language": "python",
   "name": "Python [py2]"
  },
  "language_info": {
   "codemirror_mode": {
    "name": "ipython",
    "version": 2
   },
   "file_extension": ".py",
   "mimetype": "text/x-python",
   "name": "python",
   "nbconvert_exporter": "python",
   "pygments_lexer": "ipython2",
   "version": "2.7.12"
  }
 },
 "nbformat": 4,
 "nbformat_minor": 0
}
